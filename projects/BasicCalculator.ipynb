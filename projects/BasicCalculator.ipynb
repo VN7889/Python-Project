{
 "cells": [
  {
   "cell_type": "markdown",
   "id": "bd065e9f",
   "metadata": {},
   "source": [
    "### Date: 06-14\n",
    "### Name: Varun N"
   ]
  },
  {
   "cell_type": "code",
   "execution_count": 1,
   "id": "d8fb0b0d",
   "metadata": {},
   "outputs": [
    {
     "name": "stdout",
     "output_type": "stream",
     "text": [
      "Simple Calculator\n",
      "a. Addition\n",
      "b. Subtraction\n",
      "c. Multiplication\n",
      "d. Division\n",
      "e. Exit\n",
      "Enter your choice (a, b, c, d, or e): a\n",
      "Enter the first number: 32\n",
      "Enter the second number: 14\n",
      "The result is: 46.0\n",
      "Simple Calculator\n",
      "a. Addition\n",
      "b. Subtraction\n",
      "c. Multiplication\n",
      "d. Division\n",
      "e. Exit\n",
      "Enter your choice (a, b, c, d, or e): e\n",
      "Exiting the calculator. Goodbye!\n"
     ]
    }
   ],
   "source": [
    "#1) Basic Calculator: Create a simple calculator that can perform basic arithmetic operations (addition, subtraction, \n",
    "#multiplication, division). Implement functions for each operation and allow user input to select the operation and input \n",
    "#numbers.\n",
    "# Topics: Variables, Data Types, User Input, Conditional Statements, Functions\n",
    "\n",
    "def addition(num1,num2):\n",
    "    return num1+num2\n",
    "def subtraction(num1,num2):\n",
    "    return num1-num2\n",
    "def multiplication(num1,num2):\n",
    "    return num1*num2\n",
    "def division(num1,num2):\n",
    "    if num2==0:\n",
    "        print(\"Enter any integer other than 0\")\n",
    "    else:\n",
    "        return num1/num2\n",
    "def display_menu():\n",
    "    print(\"Simple Calculator\")\n",
    "    print(\"a. Addition\")\n",
    "    print(\"b. Subtraction\")\n",
    "    print(\"c. Multiplication\")\n",
    "    print(\"d. Division\")\n",
    "    print(\"e. Exit\")\n",
    "\n",
    "def main():\n",
    "    while True:\n",
    "        display_menu()\n",
    "        choice = input(\"Enter your choice (a, b, c, d, or e): \").strip().lower()\n",
    "\n",
    "        if choice == 'e':\n",
    "            print(\"Exiting the calculator. Goodbye!\")\n",
    "            break\n",
    "        elif choice in ('a', 'b', 'c', 'd'):\n",
    "            try:\n",
    "                num1 = float(input(\"Enter the first number: \"))\n",
    "                num2 = float(input(\"Enter the second number: \"))\n",
    "            except ValueError:\n",
    "                print(\"Invalid input! Please enter numeric values.\")\n",
    "                continue\n",
    "\n",
    "            if choice == 'a':\n",
    "                result = addition(num1, num2)\n",
    "            elif choice == 'b':\n",
    "                result = subtraction(num1, num2)\n",
    "            elif choice == 'c':\n",
    "                result = multiplication(num1, num2)\n",
    "            elif choice == 'd':\n",
    "                result = division(num1, num2)\n",
    "            \n",
    "            print(f\"The result is: {result}\")\n",
    "        else:\n",
    "            print(\"Invalid choice! Please select a valid option.\")\n",
    "main()"
   ]
  },
  {
   "cell_type": "code",
   "execution_count": null,
   "id": "bf37b838",
   "metadata": {},
   "outputs": [],
   "source": []
  }
 ],
 "metadata": {
  "kernelspec": {
   "display_name": "Python 3 (ipykernel)",
   "language": "python",
   "name": "python3"
  },
  "language_info": {
   "codemirror_mode": {
    "name": "ipython",
    "version": 3
   },
   "file_extension": ".py",
   "mimetype": "text/x-python",
   "name": "python",
   "nbconvert_exporter": "python",
   "pygments_lexer": "ipython3",
   "version": "3.9.13"
  }
 },
 "nbformat": 4,
 "nbformat_minor": 5
}
