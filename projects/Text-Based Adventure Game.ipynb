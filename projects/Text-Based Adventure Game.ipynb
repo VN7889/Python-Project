{
 "cells": [
  {
   "cell_type": "code",
   "execution_count": null,
   "id": "a090178a",
   "metadata": {},
   "outputs": [
    {
     "name": "stdout",
     "output_type": "stream",
     "text": [
      "Hi, There was a family went for hiking in the forest but they got lost and now they have to survive the night\n",
      "where the temperature drops to below 10 degrees centigrade,There is no network in their phones, as the forest is\n",
      "too dense the search team cannot continue to search. It's been 3 days since they got lost they ran out of food\n",
      "and water and they need set a camp fire to survive the night, they do not have any survival skills in wild as\n",
      "they all born and bought up in the city.\n",
      "\n",
      "Would you like to make the decisions so the family can survive for few more days.\n",
      "Do you like to play the game! Enter 'yes' or 'no'.\n",
      "\n"
     ]
    }
   ],
   "source": [
    "#4) Simple Text-Based Adventure Game: Create a text-based game where users can make choices that affect the outcome of the \n",
    "#story. Implement multiple story paths and use conditional statements to handle user decisions.\n",
    "#Topics: Strings, Loops, Conditional Statements, Functions\n",
    "\n",
    "def display_menu():\n",
    "    print(\"Hi, There was a family went for hiking in the forest but they got lost and now they have to survive the night\") \n",
    "    print(\"where the temperature drops to below 10 degrees centigrade,There is no network in their phones, as the forest is\")\n",
    "    print(\"too dense the search team cannot continue to search. It's been 3 days since they got lost they ran out of food\") \n",
    "    print(\"and water and they need set a camp fire to survive the night, they do not have any survival skills in wild as\") \n",
    "    print(\"they all born and bought up in the city.\")\n",
    "    print(\"\\nWould you like to make the decisions so the family can survive for few more days.\")\n",
    "    print(\"Do you like to play the game! Enter 'yes' or 'no'.\\n\")\n",
    "    \n",
    "def main():\n",
    "    while True:\n",
    "        display_menu()\n",
    "        user_input=input(\"Enter Yes or no to continue: \").strip().lower()\n",
    "        if user_input=='no':\n",
    "            print(\"Game terminated successfully\")\n",
    "            break\n",
    "        elif user_input=='yes':\n",
    "            pass\n",
    "        else:\n",
    "            print(\"Error: Enter either yes or no to continue\")\n",
    "main()"
   ]
  },
  {
   "cell_type": "code",
   "execution_count": null,
   "id": "5146746c",
   "metadata": {},
   "outputs": [],
   "source": []
  },
  {
   "cell_type": "code",
   "execution_count": null,
   "id": "97337834",
   "metadata": {},
   "outputs": [],
   "source": []
  }
 ],
 "metadata": {
  "kernelspec": {
   "display_name": "Python 3 (ipykernel)",
   "language": "python",
   "name": "python3"
  },
  "language_info": {
   "codemirror_mode": {
    "name": "ipython",
    "version": 3
   },
   "file_extension": ".py",
   "mimetype": "text/x-python",
   "name": "python",
   "nbconvert_exporter": "python",
   "pygments_lexer": "ipython3",
   "version": "3.9.13"
  }
 },
 "nbformat": 4,
 "nbformat_minor": 5
}
