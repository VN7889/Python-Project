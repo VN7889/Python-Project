{
 "cells": [
  {
   "cell_type": "code",
   "execution_count": 7,
   "id": "5cc1ed7d",
   "metadata": {},
   "outputs": [
    {
     "name": "stdout",
     "output_type": "stream",
     "text": [
      "Are you ready to play a Number Guessing Game. Please Enter Yes or No\n",
      "Enter your choice: yes\n",
      "Enter an Number between 1 and 100 45\n",
      "The random number is 72 and the number you guessed is 45 which is low \n",
      "Are you ready to play a Number Guessing Game. Please Enter Yes or No\n",
      "Enter your choice: yes\n",
      "Enter an Number between 1 and 100 65\n",
      "The random number is 13 and the number you guessed is 65 which is high\n",
      "Are you ready to play a Number Guessing Game. Please Enter Yes or No\n",
      "Enter your choice: yes\n",
      "Enter an Number between 1 and 100 89\n",
      "The random number is 54 and the number you guessed is 89 which is high\n",
      "Are you ready to play a Number Guessing Game. Please Enter Yes or No\n",
      "Enter your choice: no\n",
      "The number of times you attempted to play the game is 3\n",
      "Exiting the Game. Goodbye!\n"
     ]
    }
   ],
   "source": [
    "#2) Guess the Number Game: Develop a number guessing game where the user has to guess a number between 1 and 100. The \n",
    "#program should provide feedback if the guess is too high or too low, and keep track of the number of attempts.\n",
    "#Topics: Loops, Conditional Statements, Random Module, User Input\n",
    "from numpy import random\n",
    "\n",
    "def random_number_gen():\n",
    "    return random.randint(1,101)\n",
    "def display():\n",
    "    print(\"Are you ready to play a Number Guessing Game. Please Enter Yes or No\")\n",
    "    \n",
    "def main():\n",
    "    no_of_attempts=0\n",
    "    while True:\n",
    "        display()\n",
    "        choice = input(\"Enter your choice: \").strip().lower()\n",
    "        \n",
    "        if choice=='no':\n",
    "            print(f\"The number of times you attempted to play the game is {no_of_attempts}\")\n",
    "            print(\"Exiting the Game. Goodbye!\")\n",
    "            break\n",
    "        elif choice=='yes':\n",
    "            random_num=random_number_gen()\n",
    "            \n",
    "            try:\n",
    "                user_input=int(input(\"Enter an Number between 1 and 100 : \"))\n",
    "                if user_input < 1 or user_input > 100:\n",
    "                    print(\"Error: Enter a valid integer between 1 and 100\")\n",
    "                    continue\n",
    "                    \n",
    "                no_of_attempts+=1    \n",
    "                \n",
    "                if user_input < random_num :\n",
    "                    print(f\"The random number is {random_num} and the number you guessed is {user_input} which is low \")\n",
    "                    \n",
    "                elif user_input > random_num :\n",
    "                    print(f\"The random number is {random_num} and the number you guessed is {user_input} which is high\")\n",
    "                    \n",
    "                else:\n",
    "                    print(f\"Bingo! The random number and the number you guessed is correct {random_num}\")\n",
    "                    \n",
    "                    \n",
    "            except ValueError:\n",
    "                print(\"Error: Enter a valid integer between 1 and 100\")\n",
    "                continue\n",
    "        else:\n",
    "            print(\"Please enter 'yes' or 'no'\")\n",
    "        \n",
    "            \n",
    "main()"
   ]
  },
  {
   "cell_type": "code",
   "execution_count": null,
   "id": "8c8b8267",
   "metadata": {},
   "outputs": [],
   "source": []
  }
 ],
 "metadata": {
  "kernelspec": {
   "display_name": "Python 3 (ipykernel)",
   "language": "python",
   "name": "python3"
  },
  "language_info": {
   "codemirror_mode": {
    "name": "ipython",
    "version": 3
   },
   "file_extension": ".py",
   "mimetype": "text/x-python",
   "name": "python",
   "nbconvert_exporter": "python",
   "pygments_lexer": "ipython3",
   "version": "3.9.13"
  }
 },
 "nbformat": 4,
 "nbformat_minor": 5
}
