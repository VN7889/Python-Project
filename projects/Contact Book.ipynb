{
 "cells": [
  {
   "cell_type": "code",
   "execution_count": null,
   "id": "bbacac0a",
   "metadata": {},
   "outputs": [],
   "source": [
    "#3) Contact Book: Build a contact book that allows users to add, delete, search, and view contacts. Store contacts in a \n",
    "#dictionary with names as keys and phone numbers as values, and provide a menu for user interaction.\n",
    "\n",
    "def display_menu():\n",
    "    print(\"Choose an option to proceed.\")\n",
    "    print(\"a. To add a contact\")\n",
    "    print(\"b. To Search a contact\")\n",
    "    print(\"c. To Delete a contact\")\n",
    "    print(\"d. To View contacts\")\n",
    "    print(\"e. To Exit\")\n",
    "def main():\n",
    "    contacts={}\n",
    "    while True:\n",
    "        display()\n",
    "        choice=input(\" Enter your option a,b,c,d,e: \\n\\n\").strip().lower()\n",
    "        if choice=='e':\n",
    "            print(\"\\nContact book terminated successfully\\n\")\n",
    "            break\n",
    "            \n",
    "        elif choice=='a':\n",
    "            name=input(\"Enter the name of the contact: \").strip()\n",
    "            if name:\n",
    "                number=input(\"Enter the phone number: \").strip()\n",
    "                if number.isdigit():\n",
    "                    contacts[name]=number\n",
    "                    print(\"\\nContact information added successfully\\n\")\n",
    "                else:\n",
    "                    print(\"\\nError: Phone number must be numeric.\\n\")\n",
    "            else:\n",
    "                print(\"\\nError: Name cannot be empty.\\n\")\n",
    "                    \n",
    "        elif choice in ('b','c'):\n",
    "            try:\n",
    "                name=input(\"Enter the name of the contact: \").strip()\n",
    "            except ValueError:\n",
    "                print(\"Error: Entered an incorrect value\")\n",
    "                continue\n",
    "            if choice=='b':\n",
    "                if name in contacts:\n",
    "                    print(f\"\\nThe contact information of {name} is \",contacts.get(name))\n",
    "                else:\n",
    "                    print(f\"\\n Contact information not found \\n\")\n",
    "            if choice=='c':\n",
    "                if name in contacts:\n",
    "                    print(f\"\\nThe contact of {name} deleted successfully: \\n\")\n",
    "                    del contacts[name]\n",
    "                else:\n",
    "                    print(\"Name not found\")\n",
    "        elif choice=='d':\n",
    "            for name,number in contacts.items():\n",
    "                print(f\"Name: {name}, Number: {number}\")\n",
    "        else:\n",
    "            print(\"Error: Select from only a,b,c,d,e.\")\n",
    "            \n",
    "main()"
   ]
  },
  {
   "cell_type": "code",
   "execution_count": null,
   "id": "9414e106",
   "metadata": {},
   "outputs": [],
   "source": []
  }
 ],
 "metadata": {
  "kernelspec": {
   "display_name": "Python 3 (ipykernel)",
   "language": "python",
   "name": "python3"
  },
  "language_info": {
   "codemirror_mode": {
    "name": "ipython",
    "version": 3
   },
   "file_extension": ".py",
   "mimetype": "text/x-python",
   "name": "python",
   "nbconvert_exporter": "python",
   "pygments_lexer": "ipython3",
   "version": "3.9.13"
  }
 },
 "nbformat": 4,
 "nbformat_minor": 5
}
